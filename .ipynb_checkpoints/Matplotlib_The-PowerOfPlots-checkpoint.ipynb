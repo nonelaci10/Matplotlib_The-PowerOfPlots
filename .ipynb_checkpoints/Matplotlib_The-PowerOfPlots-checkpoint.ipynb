{
 "cells": [
  {
   "cell_type": "code",
   "execution_count": null,
   "metadata": {},
   "outputs": [],
   "source": [
    "# Dependencies and Setup\n",
    "import matplotlib.pyplot as plt\n",
    "import pandas as pd\n",
    "import scipy.stats as st\n",
    "from scipy.stats import linregress\n",
    "import numpy as np\n",
    "\n",
    "\n",
    "# Study data files\n",
    "mouse_metadata = \"Pymaceuticals_data_Mouse_metadata.csv\"\n",
    "study_results = \"Pymaceuticals_data_Study_results.csv\"\n",
    "\n",
    "# Read the mouse data and the study results\n",
    "mouse_metadata = pd.read_csv(mouse_metadata)\n",
    "study_results = pd.read_csv(study_results)"
   ]
  },
  {
   "cell_type": "code",
   "execution_count": null,
   "metadata": {
    "scrolled": true
   },
   "outputs": [],
   "source": [
    "# Combine the data into a single dataset\n",
    "combined_data_df = pd.merge(study_results, mouse_metadata, how='outer', on='Mouse ID')\n",
    "combined_data_df "
   ]
  },
  {
   "cell_type": "code",
   "execution_count": null,
   "metadata": {},
   "outputs": [],
   "source": []
  },
  {
   "cell_type": "code",
   "execution_count": null,
   "metadata": {
    "scrolled": true
   },
   "outputs": [],
   "source": [
    "# Generate a summary statistics table of mean, median, variance, standard deviation, and SEM of the tumor volume for each regimen \n",
    "grouped_data = combined_data_df.groupby(['Drug Regimen']).mean()\n",
    "tum_mean = (grouped_data['Tumor Volume (mm3)'])\n",
    "tum_median = combined_data_df.groupby(['Drug Regimen']).median()\n",
    "tum_median1 = (tum_median['Tumor Volume (mm3)'])\n",
    "tum_vars = combined_data_df.groupby(['Drug Regimen']).var()\n",
    "tum_vars1 = (tum_vars['Tumor Volume (mm3)'])\n",
    "tum_stdev = combined_data_df.groupby(['Drug Regimen']).std()\n",
    "tum_stdev1 = (tum_stdev['Tumor Volume (mm3)'])\n",
    "tum_stderr = combined_data_df.groupby(['Drug Regimen']).sem()\n",
    "tum_stderr1 = (tum_stderr['Tumor Volume (mm3)'])"
   ]
  },
  {
   "cell_type": "code",
   "execution_count": null,
   "metadata": {},
   "outputs": [],
   "source": [
    "cols =['Mean Tumor Volume', 'Median Tumor Volume', 'Tumor Volume Variance', 'Tumor Volume Std. Dev.', 'Tumor Volume Std. Err.']\n",
    "disc1 = {cols[0] : tum_mean, cols[1] : tum_median1, cols[2] : tum_vars1, cols[3] : tum_stdev1, cols[4] : tum_stderr1}\n",
    "summary_table1_df = (pd.DataFrame(data = disc1))\n",
    "summary_table1_df"
   ]
  },
  {
   "cell_type": "code",
   "execution_count": null,
   "metadata": {
    "scrolled": true
   },
   "outputs": [],
   "source": [
    "drug_sum = combined_data_df.groupby(['Drug Regimen']).count()\n",
    "drug_sum1 = (drug_sum ['Tumor Volume (mm3)'])\n",
    "cols_bar =['Number of Data Points']\n",
    "disc2 = {cols_bar[0] : drug_sum1}\n",
    "summary_table2_df = (pd.DataFrame(data = disc2))"
   ]
  },
  {
   "cell_type": "code",
   "execution_count": null,
   "metadata": {},
   "outputs": [],
   "source": [
    "# Generate a bar plot showing number of data points for each treatment regimen using pandas \n",
    "bar1 = summary_table2_df.plot(kind=\"bar\")\n",
    "bar1.set_ylabel(\"Number of Data Points\")"
   ]
  },
  {
   "cell_type": "code",
   "execution_count": null,
   "metadata": {},
   "outputs": [],
   "source": [
    "# Generate a bar plot showing number of data points for each treatment regimen using pyplot \n",
    "bar1 = summary_table2_df.plot(kind=\"bar\")\n",
    "bar1.set_ylabel(\"Number of Data Points\")"
   ]
  },
  {
   "cell_type": "code",
   "execution_count": null,
   "metadata": {},
   "outputs": [],
   "source": [
    "#count numbers of each gender\n",
    "sex_num = combined_data_df.groupby(['Sex']).count()\n",
    "sex_num1 = (sex_num['Mouse ID'])\n",
    "\n",
    "cols_gen =['Gender']\n",
    "disc3 = {cols_gen[0] : sex_num1}\n",
    "summary_table3_df = (pd.DataFrame(data = disc3))\n",
    "summary_table3_df"
   ]
  },
  {
   "cell_type": "code",
   "execution_count": null,
   "metadata": {},
   "outputs": [],
   "source": []
  },
  {
   "cell_type": "code",
   "execution_count": null,
   "metadata": {},
   "outputs": [],
   "source": [
    " # Generate a pie plot showing the distribution of female versus male mice using pyplot\n",
    "colors = [\"orange\", \"blue\"]\n",
    "labels2 = [\"Females\", \"Males\"]\n",
    "plt.pie(sex_num1, explode= (0,0), labels=labels2, colors=colors, autopct=\"%1.1f%%\", shadow=True, startangle=180)\n",
    "plt.show()"
   ]
  },
  {
   "cell_type": "code",
   "execution_count": null,
   "metadata": {},
   "outputs": [],
   "source": [
    "# Calculate the final tumor volume of each mouse \n",
    "#across four of the most promising treatment regimens. \n",
    "#Calculate the IQR and quantitatively determine if there \n",
    "#are any potential outliers.  \n",
    "# Quantitatively determine capomulin outlier\n",
    "\n",
    "\n",
    "# Quantitatively determine ramicane outliers\n",
    "\n",
    "\n",
    "# Quantitatively determine infubinol outliers\n",
    "\n",
    "\n",
    "# Quantitatively determine ceftamin outliers"
   ]
  },
  {
   "cell_type": "code",
   "execution_count": null,
   "metadata": {},
   "outputs": [],
   "source": [
    "# Generate a box plot of the final tumor volume of each mouse across four regimens of interest \n",
    "fig1, ax1 = plt.subplots()\n",
    "ax1.set_ylabel('Fimal Tumor Volume (mm3)')\n",
    "ax1.boxplot(times)\n",
    "plt.show()\n"
   ]
  },
  {
   "cell_type": "code",
   "execution_count": null,
   "metadata": {},
   "outputs": [],
   "source": [
    "#single mousem\n",
    "mouse_guy = combined_data_df.loc[combined_data_df['Mouse ID'] == \"m601\"]\n",
    "mouse_guy1 = mouse_guy[['Drug Regimen', 'Timepoint']]\n",
    "mouse_guy1"
   ]
  },
  {
   "cell_type": "code",
   "execution_count": null,
   "metadata": {},
   "outputs": [],
   "source": [
    "# Generate a line plot of time point versus tumor volume for a mouse treated with Capomulin \n",
    "plt.line = mouse_guy1.plot.line()\n",
    "plt.title(\"Capomulin treatment of mouse m601\")\n",
    "plt.xlabel(\"Timepoint (days)\")\n",
    "plt.ylabel(\"Tumor Volume(mm3)\")\n",
    "\n"
   ]
  },
  {
   "cell_type": "code",
   "execution_count": null,
   "metadata": {},
   "outputs": [],
   "source": [
    "# Generate a scatter plot of mouse weight versus average tumor volume for the Capomulin regimen \n",
    "\n",
    "scat_graph = combined_data_df.groupby(['Weight (g)']).mean()\n",
    "scat_graph1 = (scat_graph['Tumor Volume (mm3)'])\n",
    "\n",
    "cols_avetum =['Average Tumor Volume (mm3)']\n",
    "disc4 = {cols_avetum[0]: scat_graph1}\n",
    "summary_table4_df = (pd.DataFrame({\"Average Tumor Volume (mm3)\": scat_graph1}))\n",
    "summary_table4_df[\"Weight\"] = summary_table4_df.index + 0\n",
    "summary_table4_df\n",
    "\n",
    "summary_table4_df.plot.scatter(x= 'Weight', y='Average Tumor Volume (mm3)',color='red')\n",
    "plt.xlabel('Weight (g)')\n",
    "plt.ylabel('Average Tumor Volume (mm3)')\n",
    "plt.show()"
   ]
  },
  {
   "cell_type": "code",
   "execution_count": null,
   "metadata": {},
   "outputs": [],
   "source": [
    "\n"
   ]
  },
  {
   "cell_type": "code",
   "execution_count": null,
   "metadata": {},
   "outputs": [],
   "source": [
    "# Calculate the correlation coefficient and linear regression model for mouse weight and average tumor volume for the Capomulin regimen \n",
    "summary_table4_df.plot.scatter(x= 'Weight', y='Average Tumor Volume (mm3)',color='red')\n",
    "plt.show()\n"
   ]
  },
  {
   "cell_type": "code",
   "execution_count": null,
   "metadata": {},
   "outputs": [],
   "source": [
    "x_values = summary_table4_df[\"Weight\"]\n",
    "y_values = scat_graph1\n",
    "(slope, intercept, rvalue, pvalue, stderr) = linregress(x_values, y_values)\n",
    "regress_values = x_values * slope + intercept\n",
    "line_eq = \"y = \" + str(round(slope,2)) + \"x + \" + str(round(intercept,2))\n",
    "plt.scatter(x_values,y_values)\n",
    "plt.plot(x_values,regress_values,\"r-\")\n",
    "plt.annotate(line_eq,(6,10),fontsize=15,color=\"red\")\n",
    "plt.xlabel('Weight (g)')\n",
    "plt.ylabel('Average Tumor Volume (mm3)')\n",
    "plt.show()"
   ]
  },
  {
   "cell_type": "code",
   "execution_count": null,
   "metadata": {},
   "outputs": [],
   "source": []
  },
  {
   "cell_type": "code",
   "execution_count": null,
   "metadata": {},
   "outputs": [],
   "source": []
  }
 ],
 "metadata": {
  "kernelspec": {
   "display_name": "Python [conda env:.conda-PythonData] *",
   "language": "python",
   "name": "conda-env-.conda-PythonData-py"
  },
  "language_info": {
   "codemirror_mode": {
    "name": "ipython",
    "version": 3
   },
   "file_extension": ".py",
   "mimetype": "text/x-python",
   "name": "python",
   "nbconvert_exporter": "python",
   "pygments_lexer": "ipython3",
   "version": "3.6.10"
  }
 },
 "nbformat": 4,
 "nbformat_minor": 4
}
